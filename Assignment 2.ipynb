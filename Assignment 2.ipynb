{
 "cells": [
  {
   "cell_type": "markdown",
   "metadata": {},
   "source": [
    "Q1] create an empty list.Accept 10 numbers from the user and append to it the list if it is an even number."
   ]
  },
  {
   "cell_type": "code",
   "execution_count": 2,
   "metadata": {},
   "outputs": [
    {
     "name": "stdout",
     "output_type": "stream",
     "text": [
      "Enter elements:1\n",
      "Enter elements:2\n",
      "Enter elements:3\n",
      "Enter elements:4\n",
      "Enter elements:5\n",
      "Enter elements:6\n",
      "Enter elements:7\n",
      "Enter elements:8\n",
      "Enter elements:9\n",
      "Enter elements:10\n",
      "The even list [2, 4, 6, 8, 10]\n"
     ]
    }
   ],
   "source": [
    "# ANS\n",
    "a=[]\n",
    "for i in range(10):\n",
    "    b=int(input(\"Enter elements:\"))\n",
    "    a.append(b)\n",
    "even=[]\n",
    "odd=[]\n",
    "for j in a:\n",
    "    if(j %2==0):\n",
    "        even.append(j)\n",
    "    else:\n",
    "        odd.append(j)\n",
    "print(\"The even list\",even)\n",
    "\n"
   ]
  },
  {
   "cell_type": "markdown",
   "metadata": {},
   "source": [
    "Q 2] create a notebook on LIST COMPREHENSION."
   ]
  },
  {
   "cell_type": "code",
   "execution_count": 1,
   "metadata": {},
   "outputs": [
    {
     "name": "stdout",
     "output_type": "stream",
     "text": [
      "[1, 4, 9, 16, 25, 36, 49, 64, 81]\n"
     ]
    }
   ],
   "source": [
    "list =[1,2,3,4,5,6,7,8,9]\n",
    "list1 =[i*i for i in list]\n",
    "print(list1)"
   ]
  },
  {
   "cell_type": "markdown",
   "metadata": {},
   "source": [
    "Q 3] write program that generate directory d which contain (i,i*i)"
   ]
  },
  {
   "cell_type": "code",
   "execution_count": 6,
   "metadata": {},
   "outputs": [
    {
     "name": "stdout",
     "output_type": "stream",
     "text": [
      "8\n",
      "{1: 1, 2: 4, 3: 9, 4: 16, 5: 25, 6: 36, 7: 49, 8: 64}\n"
     ]
    }
   ],
   "source": [
    "#ANS\n",
    "def sqr_finder(n):\n",
    "    squres= {}\n",
    "    for i in range (1, n+1):\n",
    "        squres [i] = i*i\n",
    "    return squres\n",
    "print(sqr_finder(int(input())))"
   ]
  },
  {
   "cell_type": "markdown",
   "metadata": {},
   "source": [
    "Q 4] "
   ]
  },
  {
   "cell_type": "code",
   "execution_count": 3,
   "metadata": {},
   "outputs": [
    {
     "name": "stdout",
     "output_type": "stream",
     "text": [
      "UP 5\n",
      "DOWN 3\n",
      "LEFT 3\n",
      "RIGHT 2\n",
      "Rounded distance from zero position: 2\n"
     ]
    }
   ],
   "source": [
    "pos=0\n",
    "moves={\"UP\":1j,\n",
    "       \"DOWN\":-1j,\n",
    "       \"LEFT\":-1,\n",
    "       \"RIGHT\":1}\n",
    "\n",
    "#Set inputs\n",
    "data=[\"UP 5\",\n",
    "    \"DOWN 3\",\n",
    "    \"LEFT 3\",\n",
    "    \"RIGHT 2\"]\n",
    "\n",
    "#Move robot on valid moves\n",
    "for inp in data:\n",
    "    parts=inp.split()    \n",
    "    mv=parts[0]\n",
    "    val=parts[1]\n",
    "    print (mv, val)\n",
    "    pos += moves[mv]*int(val)\n",
    "\n",
    "#get distance     \n",
    "print('Rounded distance from zero position:', round(abs(pos)))"
   ]
  },
  {
   "cell_type": "code",
   "execution_count": null,
   "metadata": {},
   "outputs": [],
   "source": []
  }
 ],
 "metadata": {
  "kernelspec": {
   "display_name": "Python 3",
   "language": "python",
   "name": "python3"
  },
  "language_info": {
   "codemirror_mode": {
    "name": "ipython",
    "version": 3
   },
   "file_extension": ".py",
   "mimetype": "text/x-python",
   "name": "python",
   "nbconvert_exporter": "python",
   "pygments_lexer": "ipython3",
   "version": "3.8.3"
  }
 },
 "nbformat": 4,
 "nbformat_minor": 4
}
